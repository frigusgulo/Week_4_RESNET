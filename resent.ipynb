{
 "cells": [
  {
   "cell_type": "code",
   "execution_count": 1,
   "metadata": {},
   "outputs": [],
   "source": [
    "import numpy as np\n",
    "import matplotlib.pyplot as plt\n",
    "import matplotlib\n",
    "matplotlib.rcParams['figure.figsize'] = (9,9)\n",
    "import torch\n",
    "import torch.nn as nn\n",
    "import torch.nn.functional as F\n",
    "import torchvision.datasets as dsets\n",
    "import torchvision.transforms as transforms\n",
    "from torch.autograd import Variable\n",
    "np.random.seed(0)"
   ]
  },
  {
   "cell_type": "markdown",
   "metadata": {},
   "source": [
    "![simpleresnet.png](simpleresnet.png)\n",
    "\n",
    "This exercies uses a simple implementation of a deep neural network to explore the vanishing gradient problem"
   ]
  },
  {
   "cell_type": "code",
   "execution_count": null,
   "metadata": {},
   "outputs": [],
   "source": [
    "# Choose an activation function\n",
    "activation = torch.tanh\n",
    "\n",
    "# Choose a number of iterations\n",
    "n = 4\n",
    "\n",
    "# Store the feed-forward steps\n",
    "w_list = []\n",
    "z_list = []\n",
    "a_list = []\n",
    "\n",
    "# Make up some data\n",
    "z_obs = torch.tensor([1.0])\n",
    "\n",
    "# Initial value\n",
    "x = torch.tensor([10.],requires_grad=True)\n",
    "z_prev = x\n",
    "\n",
    "# Loop over a number of hidden layers\n",
    "for i in range(n):\n",
    "    # New weight\n",
    "    w_i = torch.tensor([1.0],requires_grad=True)\n",
    "\n",
    "    # Linear transform\n",
    "    a_i = z_prev*w_i\n",
    "\n",
    "    # Activation\n",
    "    zprime_i = activation(a_i)\n",
    "\n",
    "    # Without skip connection\n",
    "    z_i = zprime_i\n",
    "    \n",
    "    # With skip connection\n",
    "    #z_i = zprime_i + z_prev\n",
    "\n",
    "    # Store forward model stuff\n",
    "    w_list.append(w_i)\n",
    "    z_list.append(zprime_i)\n",
    "    a_list.append(a_i)\n",
    "\n",
    "    # output of layer i becomes input for layer i+1\n",
    "    z_prev = z_i\n",
    "\n",
    "# Objective function\n",
    "L = 0.5*(z_i - z_obs)**2\n",
    "\n",
    "# Reverse-mode AD\n",
    "L.backward()\n",
    "\n",
    "# Print each weight's gradient\n",
    "print([w_.grad for w_ in w_list])\n"
   ]
  },
  {
   "cell_type": "markdown",
   "metadata": {},
   "source": [
    "Now that we have seen how implementing skip connections seemingly solve the problem of vanishing gradients,\n",
    "lets apply this idea to something a bit fancier, like classifying handwritten images."
   ]
  },
  {
   "cell_type": "code",
   "execution_count": 12,
   "metadata": {},
   "outputs": [],
   "source": [
    "train_dataset = dsets.MNIST(root='./data',\n",
    "                           train=True,\n",
    "                           transform=transforms.ToTensor(),\n",
    "                           download=True)\n",
    "\n",
    "test_dataset = dsets.MNIST(root='./data',\n",
    "                           train=False,\n",
    "                           transform=transforms.ToTensor())\n",
    "train_loader = torch.utils.data.DataLoader(dataset=train_dataset,\n",
    "                                          batch_size=100,\n",
    "                                          shuffle=True)\n",
    "\n",
    "test_loader = torch.utils.data.DataLoader(dataset=test_dataset,\n",
    "                                          batch_size=100,\n",
    "                                          shuffle=False)"
   ]
  },
  {
   "cell_type": "code",
   "execution_count": 20,
   "metadata": {},
   "outputs": [],
   "source": [
    "class Net(nn.Module):\n",
    "    def __init__(self,layers, input_size, num_class):\n",
    "        super(Net, self).__init__()\n",
    "        self.input = input_size\n",
    "        self.classes = num_class\n",
    "        self.layers = layers\n",
    "        self.linears = nn.ModuleList([nn.Linear(self.input,self.input)])\n",
    "        self.linears.extend([nn.Linear(self.input, self.input) for i in range(1, self.layers-1)])\n",
    "        self.linears.append(nn.Linear(self.input, self.classes))\n",
    "        \n",
    "    def forward(self, x):\n",
    "        temp = None\n",
    "        i = 0\n",
    "        for layer in self.linears:\n",
    "            if i%3 == 0:\n",
    "                x = torch.sigmoid(layer(x))\n",
    "                i += 1\n",
    "            else:\n",
    "                x = layer(x)\n",
    "                i += 1\n",
    "\n",
    "        return x    "
   ]
  },
  {
   "cell_type": "code",
   "execution_count": 27,
   "metadata": {},
   "outputs": [],
   "source": [
    "input_size = 784       # The image size = 28 x 28 = 784\n",
    "num_classes = 10       # The number of output classes. In this case, from 0 to 9\n",
    "num_epochs = 10         # The number of times entire dataset is trained\n",
    "batch_size = 100       # The size of input data took for one iteration\n",
    "learning_rate = 1e-3  # The speed of convergence\n",
    "net = Net(10, input_size,num_classes)\n",
    "criterion = nn.CrossEntropyLoss()\n",
    "optimizer = torch.optim.Adam(nn.ParameterList(net.parameters()), lr=learning_rate)"
   ]
  },
  {
   "cell_type": "code",
   "execution_count": 28,
   "metadata": {},
   "outputs": [
    {
     "name": "stdout",
     "output_type": "stream",
     "text": [
      "0 1.6236677169799805 88\n",
      "1 1.5830748081207275 89\n",
      "2 1.6101799011230469 90\n",
      "3 1.5826879739761353 90\n",
      "4 1.5915794372558594 90\n",
      "5 1.5670654773712158 90\n",
      "6 1.55930495262146 90\n",
      "7 1.54966139793396 91\n",
      "8 1.5311980247497559 91\n",
      "9 1.5287469625473022 91\n"
     ]
    }
   ],
   "source": [
    "for epoch in range(num_epochs):\n",
    "    for i, (images, labels) in enumerate(train_loader):   # Load a batch of images with its (index, data, class)\n",
    "        images = Variable(images.view(-1,28*28))         # Convert torch tensor to Variable: change image from a vector of size 784 to a matrix of 28 x 28\n",
    "        labels = Variable(labels)\n",
    "        optimizer.zero_grad()                             # Intialize the hidden weight to all zeros\n",
    "        outputs = net(images)                             # Forward pass: compute the output class given a image\n",
    "        loss = criterion(outputs, labels)                 # Compute the loss: difference between the output class and the pre-given label\n",
    "        loss.backward()                                   # Backward pass: compute the weight\n",
    "        optimizer.step()\n",
    "    total=0\n",
    "    correct=0\n",
    "    # Loop over all the test examples and accumulate the number of correct results in each batch\n",
    "    for d,t in test_loader:\n",
    "        outputs = net(d.view(-1,28*28))\n",
    "        _, predicted = torch.max(outputs.data,1)\n",
    "        total += Variable(t).size(0)\n",
    "        correct += (predicted==t).sum()\n",
    "        \n",
    "    # Print the epoch, the training loss, and the test set accuracy.\n",
    "    print(epoch,loss.item(),(100.*correct/total).item())"
   ]
  },
  {
   "cell_type": "markdown",
   "metadata": {},
   "source": [
    "**Questions**\n",
    "\n",
    "1. What is the vanishing gradient problem, and what is its primary cause?\n",
    "\n",
    "2. In terms of how a given block of a network is \"fitted\", what is the key difference between using skip connections and traditional blocks?\n",
    "3. In the context of model hyper-parameters, what additional parameters is added in the res-net implementation?"
   ]
  },
  {
   "cell_type": "code",
   "execution_count": null,
   "metadata": {},
   "outputs": [],
   "source": []
  }
 ],
 "metadata": {
  "kernelspec": {
   "display_name": "Python 3",
   "language": "python",
   "name": "python3"
  },
  "language_info": {
   "codemirror_mode": {
    "name": "ipython",
    "version": 3
   },
   "file_extension": ".py",
   "mimetype": "text/x-python",
   "name": "python",
   "nbconvert_exporter": "python",
   "pygments_lexer": "ipython3",
   "version": "3.7.3"
  }
 },
 "nbformat": 4,
 "nbformat_minor": 2
}
